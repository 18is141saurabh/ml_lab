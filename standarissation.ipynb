{
  "nbformat": 4,
  "nbformat_minor": 0,
  "metadata": {
    "colab": {
      "name": "Untitled2.ipynb",
      "provenance": []
    },
    "kernelspec": {
      "name": "python3",
      "display_name": "Python 3"
    },
    "language_info": {
      "name": "python"
    }
  },
  "cells": [
    {
      "cell_type": "code",
      "execution_count": 2,
      "metadata": {
        "colab": {
          "base_uri": "https://localhost:8080/"
        },
        "id": "zY7fsw0n8vmP",
        "outputId": "5aa8e1e6-2de3-479f-b071-1a5093059f66"
      },
      "outputs": [
        {
          "output_type": "stream",
          "name": "stdout",
          "text": [
            "enter the size5\n",
            "enter the value1\n",
            "enter the value2\n",
            "enter the value4\n",
            "enter the value5\n",
            "enter the value6\n",
            "[1, 2, 4, 5, 6]\n",
            "mean is  3.6\n",
            "median is 4\n",
            "1 6\n",
            "normalization value is  0.0\n",
            "normalization value is  0.2\n",
            "normalization value is  0.6\n",
            "normalization value is  0.8\n",
            "normalization value is  1.0\n",
            "std deviation  1.8547236990991407\n",
            "standardization  1.2939932784412609\n"
          ]
        }
      ],
      "source": [
        "n=int(input(\"enter the size\"))\n",
        "\n",
        "\n",
        "\n",
        "\n",
        "\n",
        "arr=[None]*n\n",
        "for i in range(n):\n",
        "    val=int(input(\"enter the value\"))\n",
        "    arr[i]=val\n",
        "print(arr)\n",
        "\n",
        "\n",
        "\n",
        "\n",
        "\n",
        "sum=0\n",
        "for i in range(n):\n",
        "    sum+=arr[i]\n",
        "mean=sum/n    \n",
        "print(\"mean is \",sum/n)    \n",
        "if(n%2==0):\n",
        "    print(\"medianis \",(arr[n//2]+arr[(n//2)-1])/2)\n",
        "else:\n",
        "    print(\"median is\",arr[n//2])\n",
        "\n",
        "\n",
        "\n",
        "\n",
        "\n",
        "## min max normalization\n",
        "min=arr[0]\n",
        "max=arr[0]\n",
        "for i in range(n):\n",
        "    if arr[i]<min:\n",
        "        min=arr[i]\n",
        "    if arr[i]>max:\n",
        "        max=arr[i]\n",
        "print(min,max)\n",
        "\n",
        "for i in range(n):\n",
        "    val=(arr[i]-min)/(max-min)\n",
        "    print(\"normalization value is \",val)\n",
        "import math\n",
        "summ2=0\n",
        "for i in arr:\n",
        "    summ2=summ2+((i-mean)**2)\n",
        "ans=math.sqrt(summ2/n)\n",
        "print(\"std deviation \",ans) \n",
        "for i in range(n):\n",
        "    val=(arr[i]-mean)/ans\n",
        "print(\"standardization \",val)"
      ]
    }
  ]
}